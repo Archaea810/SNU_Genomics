{
 "cells": [
  {
   "cell_type": "code",
   "execution_count": 12,
   "metadata": {},
   "outputs": [],
   "source": [
    "from Bio import Entrez, SeqIO\n",
    "#Entrez provides access to NCBI directly from the console\n",
    "#SeqIO processes the sequences parsed from NCBI\n",
    "Entrez.email = 'steveko35@naver.com'"
   ]
  },
  {
   "cell_type": "code",
   "execution_count": 13,
   "metadata": {},
   "outputs": [
    {
     "name": "stdout",
     "output_type": "stream",
     "text": [
      "{'DbList': ['pubmed', 'protein', 'nuccore', 'ipg', 'nucleotide', 'structure', 'genome', 'annotinfo', 'assembly', 'bioproject', 'biosample', 'blastdbinfo', 'books', 'cdd', 'clinvar', 'gap', 'gapplus', 'grasp', 'dbvar', 'gene', 'gds', 'geoprofiles', 'homologene', 'medgen', 'mesh', 'nlmcatalog', 'omim', 'orgtrack', 'pmc', 'popset', 'proteinclusters', 'pcassay', 'protfam', 'pccompound', 'pcsubstance', 'seqannot', 'snp', 'sra', 'taxonomy', 'biocollections', 'gtr']}\n"
     ]
    }
   ],
   "source": [
    "info = Entrez.einfo()\n",
    "database = Entrez.read(info)\n",
    "print(database)"
   ]
  },
  {
   "cell_type": "code",
   "execution_count": 14,
   "metadata": {},
   "outputs": [],
   "source": [
    "seq = Entrez.esearch(db = 'nucleotide', term = 'CRT[Gene Name] AND \"Plasmodium falciparum\"[Organism]')\n",
    "#For a description of the parameters in esearch, consult: https://www.ncbi.nlm.nih.gov/books/NBK25499/#chapter4.ESearch\n",
    "#Searching the nucleotide database for [Gene Name] and [Organism]\n",
    "rec_list = Entrez.read(seq)\n",
    "#Parses an XML file from NCBI into Python objects\n",
    "#Standard search will limit reference records to 20\n",
    "if rec_list['RetMax'] < rec_list['Count']:\n",
    "#Overriding the reference limit\n",
    "    seq = Entrez.esearch(db = 'nucleotide', term = 'CRT[Gene Name] AND \"Plasmodium falciparum\"[Organism]', retmax = rec_list['Count'])\n",
    "    rec_list = Entrez.read(seq)"
   ]
  },
  {
   "cell_type": "code",
   "execution_count": 15,
   "metadata": {},
   "outputs": [],
   "source": [
    "#Downloads all the matching nt sequences from GenBank\n",
    "#If the target sequences have large sequences, avoid this procedure to prevent straining the NCBI database\n",
    "id_list = rec_list['IdList']\n",
    "handle = Entrez.efetch(db = 'nucleotide', id = id_list, rettype = 'gb')\n",
    "#For a description of the parameters in efetch, consult: https://www.ncbi.nlm.nih.gov/books/NBK25499/#chapter4.EFetch\n",
    "#db: Database from which to retrieve records\n",
    "#id: UID list from the database specified by db\n",
    "#rettype: Retrieval type"
   ]
  },
  {
   "cell_type": "code",
   "execution_count": 16,
   "metadata": {},
   "outputs": [],
   "source": [
    "records = list(SeqIO.parse(handle, 'gb'))\n",
    "#Parses an XML file from NCBI into Python objects"
   ]
  },
  {
   "cell_type": "code",
   "execution_count": 17,
   "metadata": {},
   "outputs": [
    {
     "name": "stdout",
     "output_type": "stream",
     "text": [
      "KM288867\n",
      "Plasmodium falciparum clone PF3D7_0709000 chloroquine resistance transporter (CRT) gene, complete cds\n"
     ]
    }
   ],
   "source": [
    "for record in records:\n",
    "    if record.name == 'KM288867':\n",
    "    #Loop to include the record of interest\n",
    "        break\n",
    "print(record.name)\n",
    "print(record.description)\n",
    "# Human-readable description"
   ]
  },
  {
   "cell_type": "code",
   "execution_count": 18,
   "metadata": {},
   "outputs": [
    {
     "name": "stdout",
     "output_type": "stream",
     "text": [
      "not processed:\n",
      "type: source\n",
      "location: [0:10000](+)\n",
      "qualifiers:\n",
      "    Key: clone, Value: ['PF3D7_0709000']\n",
      "    Key: db_xref, Value: ['taxon:5833']\n",
      "    Key: mol_type, Value: ['genomic DNA']\n",
      "    Key: organism, Value: ['Plasmodium falciparum']\n",
      "\n",
      "['CRT']\n",
      "not processed:\n",
      "type: mRNA\n",
      "location: join{[2751:3543](+), [3720:3989](+), [4168:4341](+), [4513:4646](+), [4799:4871](+), [4994:5070](+), [5166:5249](+), [5376:5427](+), [5564:5621](+), [5769:5862](+), [6055:6100](+), [6247:6302](+), [6471:7598](+)}\n",
      "qualifiers:\n",
      "    Key: gene, Value: ['CRT']\n",
      "    Key: product, Value: ['chloroquine resistance transporter']\n",
      "\n",
      "not processed:\n",
      "type: 5'UTR\n",
      "location: [2751:3452](+)\n",
      "qualifiers:\n",
      "    Key: gene, Value: ['CRT']\n",
      "\n",
      "not processed:\n",
      "type: primer_bind\n",
      "location: [2935:2958](+)\n",
      "qualifiers:\n",
      "\n",
      "not processed:\n",
      "type: primer_bind\n",
      "location: [3094:3121](+)\n",
      "qualifiers:\n",
      "\n",
      "not processed:\n",
      "type: CDS\n",
      "location: join{[3452:3543](+), [3720:3989](+), [4168:4341](+), [4513:4646](+), [4799:4871](+), [4994:5070](+), [5166:5249](+), [5376:5427](+), [5564:5621](+), [5769:5862](+), [6055:6100](+), [6247:6302](+), [6471:6548](+)}\n",
      "qualifiers:\n",
      "    Key: codon_start, Value: ['1']\n",
      "    Key: gene, Value: ['CRT']\n",
      "    Key: product, Value: ['chloroquine resistance transporter']\n",
      "    Key: protein_id, Value: ['AIW62921.1']\n",
      "    Key: translation, Value: ['MKFASKKNNQKNSSKNDERYRELDNLVQEGNGSRLGGGSCLGKCAHVFKLIFKEIKDNIFIYILSIIYLSVCVMNKIFAKRTLNKIGNYSFVTSETHNFICMIMFFIVYSLFGNKKGNSKERHRSFNLQFFAISMLDACSVILAFIGLTRTTGNIQSFVLQLSIPINMFFCFLILRYRYHLYNYLGAVIIVVTIALVEMKLSFETQEENSIIFNLVLISALIPVCFSNMTREIVFKKYKIDILRLNAMVSFFQLFTSCLILPVYTLPFLKQLHLPYNEIWTNIKNGFACLFLGRNTVVENCGLGMAKLCDDCDGAWKTFALFSFFNICDNLITSYIIDKFSTMTYTIVSCIQGPAIAIAYYFKFLAGDVVREPRLLDFVTLFGYLFGSIIYRVGNIILERKKMRNEENEDSEGELTNVDSIITQ']\n",
      "\n",
      "Exon 3452 3543 1\n",
      "Exon 3720 3989 1\n",
      "Exon 4168 4341 1\n",
      "not processed:\n",
      "type: primer_bind\n",
      "location: [4288:4323](-)\n",
      "qualifiers:\n",
      "\n",
      "Exon 4513 4646 1\n",
      "Exon 4799 4871 1\n",
      "Exon 4994 5070 1\n",
      "Exon 5166 5249 1\n",
      "Exon 5376 5427 1\n",
      "Exon 5564 5621 1\n",
      "Exon 5769 5862 1\n",
      "Exon 6055 6100 1\n",
      "Exon 6247 6302 1\n",
      "Exon 6471 6548 1\n",
      "not processed:\n",
      "type: 3'UTR\n",
      "location: [6548:7598](+)\n",
      "qualifiers:\n",
      "    Key: gene, Value: ['CRT']\n",
      "\n",
      "not processed:\n",
      "type: primer_bind\n",
      "location: [7833:7856](-)\n",
      "qualifiers:\n",
      "\n"
     ]
    }
   ],
   "source": [
    "#Extracting sequence features (gene products, exon positions)\n",
    "for feature in record.features:\n",
    "    if feature.type == 'gene':\n",
    "        print(feature.qualifiers['gene'])\n",
    "    #Printing the gene name in the qualifiers dictionary\n",
    "    elif feature.type == 'exon':\n",
    "        loc = feature.location\n",
    "        print('Exon', loc.start, loc.end, loc.strand)\n",
    "    #Printing the location of the exons (start, end, strand)\n",
    "    else:\n",
    "        print('not processed:\\n%s' % feature)"
   ]
  },
  {
   "cell_type": "code",
   "execution_count": 19,
   "metadata": {},
   "outputs": [
    {
     "name": "stdout",
     "output_type": "stream",
     "text": [
      "molecule_type = DNA\n",
      "topology = linear\n",
      "data_file_division = INV\n",
      "date = 12-NOV-2014\n",
      "accessions = ['KM288867']\n",
      "sequence_version = 1\n",
      "keywords = ['']\n",
      "source = Plasmodium falciparum (malaria parasite P. falciparum)\n",
      "organism = Plasmodium falciparum\n",
      "taxonomy = ['Eukaryota', 'Sar', 'Alveolata', 'Apicomplexa', 'Aconoidasida', 'Haemosporida', 'Plasmodiidae', 'Plasmodium', 'Plasmodium (Laverania)']\n",
      "references = [Reference(title='Versatile control of Plasmodium falciparum gene expression with an inducible protein-RNA interaction', ...), Reference(title='Direct Submission', ...)]\n",
      "10000\n"
     ]
    }
   ],
   "source": [
    "for name, value in record.annotations.items():\n",
    "    print('%s = %s' %(name, value))\n",
    "\n",
    "print(len(record.seq))"
   ]
  },
  {
   "cell_type": "code",
   "execution_count": 20,
   "metadata": {},
   "outputs": [],
   "source": [
    "from Bio import Medline"
   ]
  },
  {
   "cell_type": "code",
   "execution_count": 21,
   "metadata": {},
   "outputs": [
    {
     "name": "stdout",
     "output_type": "stream",
     "text": [
      "25370483\n",
      "PMID: 25370483\n",
      "OWN: NLM\n",
      "STAT: MEDLINE\n",
      "DCOM: 20160112\n",
      "LR: 20181113\n",
      "IS: 2041-1723 (Electronic) 2041-1723 (Linking)\n",
      "VI: 5\n",
      "DP: 2014 Nov 5\n",
      "TI: Versatile control of Plasmodium falciparum gene expression with an inducible protein-RNA interaction.\n",
      "PG: 5329\n",
      "LID: 10.1038/ncomms6329 [doi]\n",
      "AB: The available tools for conditional gene expression in Plasmodium falciparum are limited. Here, to enable reliable control of target gene expression, we build a system to efficiently modulate translation. We overcame several problems associated with other approaches for regulating gene expression in P. falciparum. Specifically, our system functions predictably across several native and engineered promoter contexts, and affords control over reporter and native parasite proteins irrespective of their subcellular compartmentalization. Induction and repression of gene expression are rapid, homogeneous and stable over prolonged periods. To demonstrate practical application of our system, we used it to reveal direct links between antimalarial drugs and their native parasite molecular target. This is an important outcome given the rapid spread of resistance, and intensified efforts to efficiently discover and optimize new antimalarial drugs. Overall, the studies presented highlight the utility of our system for broadly controlling gene expression and performing functional genetics in P. falciparum.\n",
      "FAU: ['Goldfless, Stephen J', 'Wagner, Jeffrey C', 'Niles, Jacquin C']\n",
      "AU: ['Goldfless SJ', 'Wagner JC', 'Niles JC']\n",
      "AD: ['Department of Biological Engineering, Massachusetts Institute of Technology, 77 Massachusetts Avenue, Cambridge, Massachusetts 02139, USA.', 'Department of Biological Engineering, Massachusetts Institute of Technology, 77 Massachusetts Avenue, Cambridge, Massachusetts 02139, USA.', 'Department of Biological Engineering, Massachusetts Institute of Technology, 77 Massachusetts Avenue, Cambridge, Massachusetts 02139, USA.']\n",
      "LA: ['eng']\n",
      "SI: ['GENBANK/KM288848', 'GENBANK/KM288849', 'GENBANK/KM288850', 'GENBANK/KM288851', 'GENBANK/KM288852', 'GENBANK/KM288853', 'GENBANK/KM288854', 'GENBANK/KM288855', 'GENBANK/KM288856', 'GENBANK/KM288857', 'GENBANK/KM288858', 'GENBANK/KM288859', 'GENBANK/KM288860', 'GENBANK/KM288861', 'GENBANK/KM288862', 'GENBANK/KM288863', 'GENBANK/KM288864', 'GENBANK/KM288865', 'GENBANK/KM288866', 'GENBANK/KM288867']\n",
      "GR: ['1DP2OD007124/OD/NIH HHS/United States', 'DP2 OD007124/OD/NIH HHS/United States', '5-T32-ES007020/ES/NIEHS NIH HHS/United States', 'T32 GM008334/GM/NIGMS NIH HHS/United States', 'T32 ES007020/ES/NIEHS NIH HHS/United States', 'P30 ES002109/ES/NIEHS NIH HHS/United States', '5-T32-GM08334/GM/NIGMS NIH HHS/United States']\n",
      "PT: ['Journal Article', 'Research Support, N.I.H., Extramural', \"Research Support, Non-U.S. Gov't\"]\n",
      "DEP: 20141105\n",
      "PL: England\n",
      "TA: Nat Commun\n",
      "JT: Nature communications\n",
      "JID: 101528555\n",
      "RN: ['0 (Aptamers, Nucleotide)']\n",
      "SB: IM\n",
      "MH: ['Aptamers, Nucleotide', 'Base Sequence', '*Gene Expression Regulation', '*Genetic Techniques', 'Molecular Sequence Data', 'Plasmodium falciparum/genetics/*metabolism']\n",
      "PMC: PMC4223869\n",
      "MID: ['NIHMS630149']\n",
      "EDAT: 2014/11/06 06:00\n",
      "MHDA: 2016/01/13 06:00\n",
      "CRDT: ['2014/11/06 06:00']\n",
      "PHST: ['2014/04/15 00:00 [received]', '2014/09/20 00:00 [accepted]', '2014/11/06 06:00 [entrez]', '2014/11/06 06:00 [pubmed]', '2016/01/13 06:00 [medline]']\n",
      "AID: ['ncomms6329 [pii]', '10.1038/ncomms6329 [doi]']\n",
      "PST: epublish\n",
      "SO: Nat Commun. 2014 Nov 5;5:5329. doi: 10.1038/ncomms6329.\n"
     ]
    }
   ],
   "source": [
    "references = record.annotations['references']\n",
    "#Checking if all reference annotations have a PubMed identifier, then retrieving\n",
    "for reference in references:\n",
    "    if reference.pubmed_id != '':\n",
    "        print(reference.pubmed_id)\n",
    "        handle = Entrez.efetch(db = 'pubmed', id = [reference.pubmed_id], rettype = 'medline', retmode = 'text')\n",
    "        #retmode: Specifies the data format of the returned data (in this case, text)\n",
    "        medicalRecords = Medline.parse(handle)\n",
    "        for med_rec in medicalRecords:\n",
    "            for k, b in med_rec.items():\n",
    "                print('%s: %s' % (k, b))"
   ]
  }
 ],
 "metadata": {
  "kernelspec": {
   "display_name": "Python 3.10.4 64-bit",
   "language": "python",
   "name": "python3"
  },
  "language_info": {
   "codemirror_mode": {
    "name": "ipython",
    "version": 3
   },
   "file_extension": ".py",
   "mimetype": "text/x-python",
   "name": "python",
   "nbconvert_exporter": "python",
   "pygments_lexer": "ipython3",
   "version": "3.10.4"
  },
  "orig_nbformat": 4,
  "vscode": {
   "interpreter": {
    "hash": "fb4569285eef3a3450cb62085a5b1e0da4bce0af555edc33dcf29baf3acc1368"
   }
  }
 },
 "nbformat": 4,
 "nbformat_minor": 2
}
