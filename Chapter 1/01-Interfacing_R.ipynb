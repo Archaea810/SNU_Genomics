{
 "cells": [
  {
   "cell_type": "code",
   "execution_count": 1,
   "metadata": {},
   "outputs": [
    {
     "name": "stderr",
     "output_type": "stream",
     "text": [
      "Unable to determine R home: [WinError 2] 지정된 파일을 찾을 수 없습니다\n"
     ]
    }
   ],
   "source": [
    "import os\n",
    "\n",
    "from IPython.display import Image\n",
    "\n",
    "import rpy2.robjects as robjects\n",
    "import rpy2.robjects.lib.ggplot2 as ggplot2\n",
    "from rpy2.robjects.functions import SignatureTranslatedFunction\n",
    "\n",
    "import pandas as pd\n",
    "\n",
    "from rpy2.robjects import pandas2ri\n",
    "from rpy2.robjects import default_converter\n",
    "from rpy2.robjects.conversion import localconverter"
   ]
  },
  {
   "cell_type": "code",
   "execution_count": 2,
   "metadata": {},
   "outputs": [],
   "source": [
    "read_delim = robjects.r('read.delim')\n",
    "#Reads a space-separated text file and sorts the contents into a Dataframe\n",
    "#Dataframe: A sequence of rows where each column has the same type\n",
    "seq_data = read_delim('../sequence.index', header = True, stringsAsFactors = False)\n",
    "#Names of each variables are stored in the first line (header = True)\n",
    "#Character vectors are not to be converted to factors (stringsAsFactors = False)"
   ]
  },
  {
   "cell_type": "code",
   "execution_count": 3,
   "metadata": {},
   "outputs": [
    {
     "name": "stdout",
     "output_type": "stream",
     "text": [
      "This data frame has 26 columns and 187720 rows\n",
      " [1] \"FASTQ_FILE\"          \"MD5\"                 \"RUN_ID\"             \n",
      " [4] \"STUDY_ID\"            \"STUDY_NAME\"          \"CENTER_NAME\"        \n",
      " [7] \"SUBMISSION_ID\"       \"SUBMISSION_DATE\"     \"SAMPLE_ID\"          \n",
      "[10] \"SAMPLE_NAME\"         \"POPULATION\"          \"EXPERIMENT_ID\"      \n",
      "[13] \"INSTRUMENT_PLATFORM\" \"INSTRUMENT_MODEL\"    \"LIBRARY_NAME\"       \n",
      "[16] \"RUN_NAME\"            \"RUN_BLOCK_NAME\"      \"INSERT_SIZE\"        \n",
      "[19] \"LIBRARY_LAYOUT\"      \"PAIRED_FASTQ\"        \"WITHDRAWN\"          \n",
      "[22] \"WITHDRAWN_DATE\"      \"COMMENT\"             \"READ_COUNT\"         \n",
      "[25] \"BASE_COUNT\"          \"ANALYSIS_GROUP\"     \n",
      "\n",
      "Columns in Python 26 \n",
      "Type of read count before as.integer: character\n",
      "Type of read count after as.integer: integer\n",
      " [1] \"Column names in R: \" \"FASTQ_FILE\"          \"MD5\"                \n",
      " [4] \"RUN_ID\"              \"STUDY_ID\"            \"STUDY_NAME\"         \n",
      " [7] \"CENTER_NAME\"         \"SUBMISSION_ID\"       \"SUBMISSION_DATE\"    \n",
      "[10] \"SAMPLE_ID\"           \"SAMPLE_NAME\"         \"POPULATION\"         \n",
      "[13] \"EXPERIMENT_ID\"       \"INSTRUMENT_PLATFORM\" \"INSTRUMENT_MODEL\"   \n",
      "[16] \"LIBRARY_NAME\"        \"RUN_NAME\"            \"RUN_BLOCK_NAME\"     \n",
      "[19] \"INSERT_SIZE\"         \"LIBRARY_LAYOUT\"      \"PAIRED_FASTQ\"       \n",
      "[22] \"WITHDRAWN\"           \"WITHDRAWN_DATE\"      \"COMMENT\"            \n",
      "[25] \"READ_COUNT\"          \"BASE_COUNT\"          \"ANALYSIS_GROUP\"     \n"
     ]
    },
    {
     "data": {
      "text/html": [
       "\n",
       "        <span>FactorVector with 177877 elements.</span>\n",
       "        <table>\n",
       "        <tbody>\n",
       "          <tr>\n",
       "          \n",
       "            <td>\n",
       "            YRI\n",
       "            </td>\n",
       "          \n",
       "            <td>\n",
       "            YRI\n",
       "            </td>\n",
       "          \n",
       "            <td>\n",
       "            YRI\n",
       "            </td>\n",
       "          \n",
       "            <td>\n",
       "            ...\n",
       "            </td>\n",
       "          \n",
       "            <td>\n",
       "            STU\n",
       "            </td>\n",
       "          \n",
       "            <td>\n",
       "            STU\n",
       "            </td>\n",
       "          \n",
       "            <td>\n",
       "            STU\n",
       "            </td>\n",
       "          \n",
       "          </tr>\n",
       "        </tbody>\n",
       "        </table>\n",
       "        "
      ],
      "text/plain": [
       "<rpy2.robjects.vectors.FactorVector object at 0x000001FDAB2EB6C0> [RTYPES.INTSXP]\n",
       "R classes: ('factor',)\n",
       "[YRI, YRI, YRI, YRI, ..., STU, STU, STU, STU]"
      ]
     },
     "execution_count": 3,
     "metadata": {},
     "output_type": "execute_result"
    }
   ],
   "source": [
    "print('This data frame has %d columns and %d rows' % (seq_data.ncol, seq_data.nrow))\n",
    "print(seq_data.colnames)\n",
    "#If 'ncol' is called directly, it will output a vector [26], since most data in R is stored as a vector\n",
    "print('Columns in Python %d ' % robjects.r.ncol(seq_data)[0])\n",
    "#'ncol' and 'nrow' functions return the length of the column and row in a Dataframe\n",
    "as_integer = robjects.r('as.integer')\n",
    "match = robjects.r.match\n",
    "#Formatting some data which were read as str into int types\n",
    "my_col = match('READ_COUNT', seq_data.colnames)[0]\n",
    "print('Type of read count before as.integer: %s' % seq_data[my_col - 1].rclass[0])\n",
    "#'colnames' is used to rename & replace the column names of the Dataframe in R\n",
    "seq_data[my_col - 1] = as_integer(seq_data[my_col - 1])\n",
    "print('Type of read count after as.integer: %s' % seq_data[my_col - 1].rclass[0])\n",
    "#Printing that the datatypes that were input as characters were converted into integers\n",
    "my_col = match('BASE_COUNT', seq_data.colnames)[0]\n",
    "seq_data[my_col - 1] = as_integer(seq_data[my_col - 1])\n",
    "#The function of 'match' is similar to 'index' in Python\n",
    "my_col = match('CENTER_NAME', seq_data.colnames)[0]\n",
    "seq_data[my_col - 1] = robjects.r.toupper(seq_data[my_col - 1])\n",
    "\n",
    "robjects.r.assign('seq.data', seq_data)\n",
    "#Assigning seq_data values to another Dataframe, seq.data --> This will be used in the yri_ceu plots\n",
    "\n",
    "robjects.r('print(c(\"Column names in R: \",colnames(seq.data)))')\n",
    "\n",
    "robjects.r('seq.data <- seq.data[seq.data$WITHDRAWN==0, ]')\n",
    "\n",
    "robjects.r(\"seq.data <- seq.data[, c('STUDY_ID', 'STUDY_NAME', 'CENTER_NAME', 'SAMPLE_ID', 'SAMPLE_NAME', 'POPULATION', 'INSTRUMENT_PLATFORM', 'LIBRARY_LAYOUT', 'PAIRED_FASTQ', 'READ_COUNT', 'BASE_COUNT', 'ANALYSIS_GROUP')]\")\n",
    "\n",
    "robjects.r('seq.data$POPULATION <- as.factor(seq.data$POPULATION)')"
   ]
  },
  {
   "cell_type": "code",
   "execution_count": 4,
   "metadata": {},
   "outputs": [
    {
     "data": {
      "image/png": "[encoded data removed]",
      "text/plain": [
       "<IPython.core.display.Image object>"
      ]
     },
     "execution_count": 4,
     "metadata": {},
     "output_type": "execute_result"
    }
   ],
   "source": [
    "ggplot2.theme = SignatureTranslatedFunction(ggplot2.theme, init_prm_translate = {'axis_text_x': 'axis.text.x'})\n",
    "#Interpreting the axis.text.x command in R to axis_text_x in Python\n",
    "bar = ggplot2.ggplot(seq_data) + ggplot2.geom_bar() + ggplot2.aes_string(x='CENTER_NAME') + ggplot2.theme(axis_text_x=ggplot2.element_text(angle = 90, hjust = 1))\n",
    "#Functions: \"geom_bar\" - Histogram chart, \"CENTER_NAME\" - x variable, \"element_text(angle = 90, hjust = 1)\" - Rotating the text of the x-axis\n",
    "robjects.r.png('out1.png', type='cairo-png')\n",
    "bar.plot()\n",
    "dev_off = robjects.r('dev.off')\n",
    "dev_off()\n",
    "Image(filename='out1.png')"
   ]
  },
  {
   "cell_type": "code",
   "execution_count": 5,
   "metadata": {},
   "outputs": [],
   "source": [
    "robjects.r('yri_ceu <- seq.data[seq.data$POPULATION %in% c(\"YRI\", \"CEU\") & seq.data$BASE_COUNT < 2E9 & seq.data$READ_COUNT < 3E7, ]')\n",
    "#Extracting a separate Dataframe with only the YRI and CEU data while limiting the max base and read counts\n",
    "yri_ceu = robjects.r('yri_ceu')"
   ]
  },
  {
   "cell_type": "code",
   "execution_count": 6,
   "metadata": {},
   "outputs": [
    {
     "data": {
      "image/png": "[encoded data removed]",
      "text/plain": [
       "<IPython.core.display.Image object>"
      ]
     },
     "execution_count": 6,
     "metadata": {},
     "output_type": "execute_result"
    }
   ],
   "source": [
    "scatter = ggplot2.ggplot(yri_ceu) + ggplot2.aes_string(x='BASE_COUNT', y='READ_COUNT', shape='factor(POPULATION)', col='factor(ANALYSIS_GROUP)') + ggplot2.geom_point()\n",
    "#Functions: \"geom_point\" - Scatter plot, \"factor(INPUT)\" - Input factor to be considered while printing the scatter plot\n",
    "robjects.r.png('out2.png')\n",
    "scatter.plot()\n",
    "dev_off = robjects.r('dev.off')\n",
    "dev_off()\n",
    "Image(filename='out2.png')"
   ]
  },
  {
   "cell_type": "code",
   "execution_count": 7,
   "metadata": {},
   "outputs": [
    {
     "name": "stdout",
     "output_type": "stream",
     "text": [
      " [1] \"STUDY_ID\"            \"STUDY_NAME\"          \"CENTER_NAME\"        \n",
      " [4] \"SAMPLE_ID\"           \"SAMPLE_NAME\"         \"POPULATION\"         \n",
      " [7] \"INSTRUMENT_PLATFORM\" \"LIBRARY_LAYOUT\"      \"READ_COUNT\"         \n",
      "[10] \"BASE_COUNT\"          \"ANALYSIS_GROUP\"     \n"
     ]
    },
    {
     "data": {
      "text/html": [
       "\n",
       "        <span>StrVector with 11 elements.</span>\n",
       "        <table>\n",
       "        <tbody>\n",
       "          <tr>\n",
       "          \n",
       "            <td>\n",
       "            'STUDY_ID'\n",
       "            </td>\n",
       "          \n",
       "            <td>\n",
       "            'STUDY_NA...\n",
       "            </td>\n",
       "          \n",
       "            <td>\n",
       "            'CENTER_N...\n",
       "            </td>\n",
       "          \n",
       "            <td>\n",
       "            ...\n",
       "            </td>\n",
       "          \n",
       "            <td>\n",
       "            'READ_COU...\n",
       "            </td>\n",
       "          \n",
       "            <td>\n",
       "            'BASE_COU...\n",
       "            </td>\n",
       "          \n",
       "            <td>\n",
       "            'ANALYSIS...\n",
       "            </td>\n",
       "          \n",
       "          </tr>\n",
       "        </tbody>\n",
       "        </table>\n",
       "        "
      ],
      "text/plain": [
       "<rpy2.robjects.vectors.StrVector object at 0x000001FDB6C341C0> [RTYPES.STRSXP]\n",
       "R classes: ('character',)\n",
       "['STUDY_ID', 'STUDY_NA..., 'CENTER_N..., 'SAMPLE_ID', ..., 'LIBRARY_..., 'READ_COU..., 'BASE_COU..., 'ANALYSIS...]"
      ]
     },
     "execution_count": 7,
     "metadata": {},
     "output_type": "execute_result"
    }
   ],
   "source": [
    "#Converting the R Dataframe to pandas via rpy2\n",
    "pd_yri_ceu = pandas2ri.rpy2py(yri_ceu)  #'ri2py' is obsolete. The new syntax is 'rpy2py'\n",
    "#print(type(pd_yri_ceu))\n",
    "#print(pd_yri_ceu)\n",
    "pandas2ri.activate()    #Required to run 'py2rpy'\n",
    "del pd_yri_ceu['PAIRED_FASTQ']\n",
    "no_paired = pandas2ri.py2rpy(pd_yri_ceu)\n",
    "robjects.r.assign('no.paired',no_paired)\n",
    "robjects.r(\"print(colnames(no.paired))\")\n"
   ]
  }
 ],
 "metadata": {
  "kernelspec": {
   "display_name": "Python 3.10.4 64-bit",
   "language": "python",
   "name": "python3"
  },
  "language_info": {
   "codemirror_mode": {
    "name": "ipython",
    "version": 3
   },
   "file_extension": ".py",
   "mimetype": "text/x-python",
   "name": "python",
   "nbconvert_exporter": "python",
   "pygments_lexer": "ipython3",
   "version": "3.10.4"
  },
  "orig_nbformat": 4,
  "vscode": {
   "interpreter": {
    "hash": "fb4569285eef3a3450cb62085a5b1e0da4bce0af555edc33dcf29baf3acc1368"
   }
  }
 },
 "nbformat": 4,
 "nbformat_minor": 2
}
