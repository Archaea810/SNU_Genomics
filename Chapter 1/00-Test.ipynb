{
 "cells": [
  {
   "cell_type": "code",
   "execution_count": 19,
   "metadata": {},
   "outputs": [
    {
     "name": "stdout",
     "output_type": "stream",
     "text": [
      " [1] \"Column names in R: \" \"FASTQ_FILE\"          \"MD5\"                \n",
      " [4] \"RUN_ID\"              \"STUDY_ID\"            \"STUDY_NAME\"         \n",
      " [7] \"CENTER_NAME\"         \"SUBMISSION_ID\"       \"SUBMISSION_DATE\"    \n",
      "[10] \"SAMPLE_ID\"           \"SAMPLE_NAME\"         \"POPULATION\"         \n",
      "[13] \"EXPERIMENT_ID\"       \"INSTRUMENT_PLATFORM\" \"INSTRUMENT_MODEL\"   \n",
      "[16] \"LIBRARY_NAME\"        \"RUN_NAME\"            \"RUN_BLOCK_NAME\"     \n",
      "[19] \"INSERT_SIZE\"         \"LIBRARY_LAYOUT\"      \"PAIRED_FASTQ\"       \n",
      "[22] \"WITHDRAWN\"           \"WITHDRAWN_DATE\"      \"COMMENT\"            \n",
      "[25] \"READ_COUNT\"          \"BASE_COUNT\"          \"ANALYSIS_GROUP\"     \n"
     ]
    },
    {
     "data": {
      "image/png": "[encoded data removed]",
      "text/plain": [
       "<IPython.core.display.Image object>"
      ]
     },
     "execution_count": 19,
     "metadata": {},
     "output_type": "execute_result"
    }
   ],
   "source": [
    "#https://github.com/PacktPublishing/Bioinformatics-with-Python-Cookbook-Second-Edition/blob/master/Chapter01/\n",
    "\n",
    "import os\n",
    "from IPython.display import Image\n",
    "import rpy2.robjects as robjects\n",
    "import rpy2.robjects.lib.ggplot2 as ggplot2\n",
    "from rpy2.robjects.functions import SignatureTranslatedFunction\n",
    "import pandas as pd\n",
    "from rpy2.robjects import pandas2ri\n",
    "from rpy2.robjects import default_converter\n",
    "from rpy2.robjects.conversion import localconverter\n",
    "\n",
    "read_delim = robjects.r('read.delim')\n",
    "seq_data = read_delim('sequence.index', header=True, stringsAsFactors=False)\n",
    "\n",
    "as_integer = robjects.r('as.integer')\n",
    "match = robjects.r.match\n",
    "my_col = match('READ_COUNT', seq_data.colnames)[0]\n",
    "seq_data[my_col - 1] = as_integer(seq_data[my_col - 1])\n",
    "\"\"\"\n",
    "my_col = match('BASE_COUNT', seq_data.colnames)[0]\n",
    "seq_data[my_col - 1] = as_integer(seq_data[my_col - 1])     #Crucial for the yri_ceu data to take form properly. (See Chap1_outTest)\n",
    "#It sets the data to integers\n",
    "#The function of 'match' is similar to 'index' in Python\n",
    "my_col = match('CENTER_NAME', seq_data.colnames)[0]\n",
    "seq_data[my_col - 1] = robjects.r.toupper(seq_data[my_col - 1])\n",
    "\"\"\"\n",
    "\n",
    "\"\"\"\n",
    "ggplot2.theme = SignatureTranslatedFunction(ggplot2.theme,\n",
    "init_prm_translate = {'axis_text_x': 'axis.text.x'})\n",
    "bar = ggplot2.ggplot(seq_data) + ggplot2.geom_bar() + ggplot2.aes_string(x='CENTER_NAME') + ggplot2.theme(axis_text_x=ggplot2.element_text(angle=90, hjust=1))\n",
    "robjects.r.png('TestOut1.png', type='cairo-png')\n",
    "bar.plot()\n",
    "dev_off = robjects.r('dev.off')\n",
    "dev_off()\n",
    "Image(filename = 'TestOut1.png')\n",
    "\"\"\"\n",
    "robjects.r.assign('seq.data', seq_data)\n",
    "robjects.r('print(c(\"Column names in R: \",colnames(seq.data)))')\n",
    "\n",
    "robjects.r('seq.data <- seq.data[seq.data$WITHDRAWN==0, ]')\n",
    "\n",
    "robjects.r(\"seq.data <- seq.data[, c('STUDY_ID', 'STUDY_NAME', 'CENTER_NAME', 'SAMPLE_ID', 'SAMPLE_NAME', 'POPULATION', 'INSTRUMENT_PLATFORM', 'LIBRARY_LAYOUT', 'PAIRED_FASTQ', 'READ_COUNT', 'BASE_COUNT', 'ANALYSIS_GROUP')]\")\n",
    "\n",
    "robjects.r('seq.data$POPULATION <- as.factor(seq.data$POPULATION)')\n",
    "\n",
    "robjects.r('yri_ceu <- seq.data[seq.data$POPULATION %in% c(\"YRI\", \"CEU\") & seq.data$BASE_COUNT < 2E9 & seq.data$READ_COUNT < 3E7, ]')\n",
    "yri_ceu = robjects.r('yri_ceu')\n",
    "scatter = ggplot2.ggplot(yri_ceu) + ggplot2.aes_string(x='BASE_COUNT', y='READ_COUNT', shape='factor(POPULATION)', col='factor(ANALYSIS_GROUP)') + ggplot2.geom_point()\n",
    "robjects.r.png('TestOut.png')\n",
    "scatter.plot()\n",
    "dev_off = robjects.r('dev.off')\n",
    "dev_off()\n",
    "Image(filename='TestOut.png')"
   ]
  },
  {
   "cell_type": "code",
   "execution_count": 20,
   "metadata": {},
   "outputs": [
    {
     "data": {
      "text/plain": [
       "'\\nrobjects.r(\\'yri_ceu <- seq_data[seq_data$POPULATION %in% c(\"YRI\", \"CEU\") & seq_data$BASE_COUNT <2E9 & seq_data$READ_COUNT < 3E7, ]\\')\\nyri_ceu = robjects.r(\\'yri_ceu\\')\\n\\nscatter = ggplot2.ggplot(yri_ceu) + ggplot2.aes_string(x=\\'BASE_COUNT\\', y = \\'READ_COUNT\\', shape = \\'factor(POPULATION)\\', col = \\'factor(ANALYSIS_GROUP)\\') + ggplot2.geom_point()\\nrobjects.r.png(\\'out2.png\\')\\nscatter.plot()\\n'"
      ]
     },
     "execution_count": 20,
     "metadata": {},
     "output_type": "execute_result"
    }
   ],
   "source": [
    "\"\"\"\n",
    "robjects.r('yri_ceu <- seq_data[seq_data$POPULATION %in% c(\"YRI\", \"CEU\") & seq_data$BASE_COUNT <2E9 & seq_data$READ_COUNT < 3E7, ]')\n",
    "yri_ceu = robjects.r('yri_ceu')\n",
    "\n",
    "scatter = ggplot2.ggplot(yri_ceu) + ggplot2.aes_string(x='BASE_COUNT', y = 'READ_COUNT', shape = 'factor(POPULATION)', col = 'factor(ANALYSIS_GROUP)') + ggplot2.geom_point()\n",
    "robjects.r.png('out2.png')\n",
    "scatter.plot()\n",
    "\"\"\""
   ]
  }
 ],
 "metadata": {
  "kernelspec": {
   "display_name": "Python 3.10.4 64-bit",
   "language": "python",
   "name": "python3"
  },
  "language_info": {
   "codemirror_mode": {
    "name": "ipython",
    "version": 3
   },
   "file_extension": ".py",
   "mimetype": "text/x-python",
   "name": "python",
   "nbconvert_exporter": "python",
   "pygments_lexer": "ipython3",
   "version": "3.10.4"
  },
  "orig_nbformat": 4,
  "vscode": {
   "interpreter": {
    "hash": "fb4569285eef3a3450cb62085a5b1e0da4bce0af555edc33dcf29baf3acc1368"
   }
  }
 },
 "nbformat": 4,
 "nbformat_minor": 2
}
